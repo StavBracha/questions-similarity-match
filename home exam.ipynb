{
 "cells": [
  {
   "cell_type": "code",
   "execution_count": null,
   "id": "initial_id",
   "metadata": {},
   "outputs": [],
   "source": [
    "import pandas as pd\n",
    "import torch\n",
    "from torch import nn, Tensor\n",
    "import math\n",
    "import time\n",
    "import copy\n",
    "import io\n",
    "import numpy as np\n",
    "from torch.utils.data import DataLoader, Dataset\n",
    "import torch.nn.functional as F\n",
    "import tensorflow as tf\n",
    "import datetime\n",
    "from sklearn.metrics.pairwise import cosine_similarity"
   ]
  },
  {
   "cell_type": "code",
   "outputs": [],
   "source": [
    "def load_pre_trained_embeddings(path: str):\n",
    "    fin = io.open(path, 'r', encoding='utf-8', newline='\\n', errors='ignore')\n",
    "    data = {}\n",
    "    for line in fin:\n",
    "        tokens = line.rstrip().split(' ')\n",
    "        data[tokens[0]] = map(float, tokens[1:])\n",
    "    return data"
   ],
   "metadata": {
    "collapsed": false
   },
   "id": "8b8cd0f892851abd",
   "execution_count": null
  },
  {
   "cell_type": "code",
   "outputs": [],
   "source": [
    "def load_words(file_name):\n",
    "    df = pd.read_csv(file_name)\n",
    "    text = df[['question1','question2']]\n",
    "    targets = df['is_duplicate']\n",
    "    return text, targets"
   ],
   "metadata": {
    "collapsed": false
   },
   "id": "6298e4cd8a0d1b00",
   "execution_count": null
  },
  {
   "cell_type": "code",
   "outputs": [],
   "source": [
    "def get_embedding(vocab):\n",
    "    matrix_len = len(vocab)\n",
    "    emb_dim = 300\n",
    "    weights_matrix = np.zeros((matrix_len, emb_dim))\n",
    "    words_found = 0\n",
    "    for i, word in enumerate(vocab):\n",
    "        try: \n",
    "            weights_matrix[i] = np.array(list(vocab[word]))\n",
    "            words_found += 1\n",
    "        except KeyError:\n",
    "            weights_matrix[i] = np.random.normal(scale=0.6, size=emb_dim)\n",
    "        except ValueError:\n",
    "            weights_matrix[i] = np.random.normal(scale=0.6, size=emb_dim)\n",
    "    return torch.from_numpy(weights_matrix)"
   ],
   "metadata": {
    "collapsed": false
   },
   "id": "c9ca70e9261a9199",
   "execution_count": null
  },
  {
   "cell_type": "code",
   "outputs": [],
   "source": [
    "def create_emb_layer(weights_matrix, non_trainable=False):\n",
    "    num_embeddings, embedding_dim = weights_matrix.size()\n",
    "    emb_layer = nn.Embedding(num_embeddings, embedding_dim)\n",
    "    emb_layer.load_state_dict({'weight': weights_matrix})\n",
    "    if non_trainable:\n",
    "        emb_layer.weight.requires_grad = False\n",
    "    return emb_layer, num_embeddings, embedding_dim"
   ],
   "metadata": {
    "collapsed": false
   },
   "id": "a424a913b94ddfe1",
   "execution_count": null
  },
  {
   "cell_type": "code",
   "outputs": [],
   "source": [
    "def pad_to_300x300(tensor):\n",
    "    width = tensor.shape[1]\n",
    "    pad_width = max(0, 300 - width)\n",
    "    pad_left = pad_width // 2\n",
    "    pad_right = pad_width - pad_left\n",
    "    padded_tensor = F.pad(tensor, (pad_left, pad_right, 0, 0), mode='constant', value=0)\n",
    "    return padded_tensor"
   ],
   "metadata": {
    "collapsed": false
   },
   "id": "84953cd0c487e647",
   "execution_count": null
  },
  {
   "cell_type": "code",
   "outputs": [],
   "source": [
    "tokens_dict = load_pre_trained_embeddings('/Users/stavbracha/PycharmProjects/crawl-300d-2M-subword/crawl-300d-2M-subword.vec')"
   ],
   "metadata": {
    "collapsed": false
   },
   "id": "5a5ee04aab9881b2",
   "execution_count": null
  },
  {
   "cell_type": "code",
   "outputs": [],
   "source": [
    "class Dataset(Dataset):\n",
    "    def __init__( self, file_name):\n",
    "        self.words, self.targets = load_words(file_name)\n",
    "        self.uniq_words = self.get_uniq_words()\n",
    "        self.token_dict = tokens_dict\n",
    "        self.tokenized_words = self.word2token()\n",
    "        \n",
    "    def get_uniq_words(self):\n",
    "        result = set()\n",
    "        self.words.dropna(subset=['question1'], inplace=True)\n",
    "        self.words['question1'].str.lower().str.split().apply(result.update)\n",
    "        self.words.dropna(subset=['question2'], inplace=True)\n",
    "        self.words['question2'].str.lower().str.split().apply(result.update)\n",
    "        return list(result)\n",
    "    \n",
    "    def word2token(self):\n",
    "        self.words['question1_list'] = self.words['question1'].str.lower().str.split()\n",
    "        self.words['question2_list'] = self.words['question2'].str.lower().str.split()\n",
    "        word_to_index = {word: index for index, word in enumerate(self.token_dict)}\n",
    "        df_models1 = pd.DataFrame(self.words['question1_list'].tolist()).fillna('').add_prefix('model_')\n",
    "        df_models1 = df_models1.apply(lambda x: x.map(word_to_index.get)).apply(pd.to_numeric,errors='coerce')\n",
    "        df_models2 = pd.DataFrame(self.words['question2_list'].tolist()).fillna('').add_prefix('model_')\n",
    "        df_models2 = df_models2.apply(lambda x: x.map(word_to_index.get)).apply(pd.to_numeric,errors='coerce')\n",
    "        return torch.tensor(df_models1.values), torch.tensor(df_models2.values)\n",
    "        \n",
    "    def __len__(self):\n",
    "        return len(self.words)\n",
    "\n",
    "    def __getitem__(self, index):\n",
    "        return (\n",
    "            self.tokenized_words[0][index,:], self.tokenized_words[1][index,:],\n",
    "            torch.tensor(self.targets[index]),\n",
    "        )"
   ],
   "metadata": {
    "collapsed": false
   },
   "id": "b8c4cf3419766f0c",
   "execution_count": null
  },
  {
   "cell_type": "code",
   "outputs": [],
   "source": [
    "device = torch.device('cuda' if torch.cuda.is_available() else 'cpu')"
   ],
   "metadata": {
    "collapsed": false
   },
   "id": "dd8cbf3b8c9f92ae",
   "execution_count": null
  },
  {
   "cell_type": "code",
   "outputs": [],
   "source": [
    "train_DataSet = Dataset('train_data.csv')\n",
    "valid_DataSet = Dataset('valid_data.csv')\n",
    "test_DataSet = Dataset('test_data.csv')"
   ],
   "metadata": {
    "collapsed": false
   },
   "id": "8224b6bd02eff4e7",
   "execution_count": null
  },
  {
   "cell_type": "code",
   "outputs": [],
   "source": [
    "class MultiHeadCoAttention(nn.Module):\n",
    "\n",
    "    def __init__(self, d_model, n_head):\n",
    "        super(MultiHeadCoAttention, self).__init__()\n",
    "        self.n_head = n_head\n",
    "        self.softmax = nn.Softmax(dim=-1)\n",
    "        self.quest_1 = nn.Linear(d_model, d_model)\n",
    "        self.quest_2 = nn.Linear(d_model, d_model)\n",
    "\n",
    "    def split(self, tensor):\n",
    "        batch_size, length, d_model = tensor.size()\n",
    "        d_tensor = d_model // self.n_head\n",
    "        tensor = tensor.view(batch_size, length, self.n_head, d_tensor).transpose(1, 2)\n",
    "        return tensor\n",
    "\n",
    "    def concat(self, tensor):\n",
    "        batch_size, head, length, d_tensor = tensor.size()\n",
    "        d_model = head * d_tensor\n",
    "        tensor = tensor.transpose(1, 2).contiguous().view(batch_size, length, d_model)\n",
    "        return tensor\n",
    "\n",
    "    def forward(self, q1, k1, v1, q2, k2, v2):\n",
    "        \n",
    "        q1, k1, v1 = self.quest_1(q1), self.quest_1(k1), self.quest_1(v1)\n",
    "        q1, k1, v1 = self.split(q1), self.split(k1), self.split(v1)\n",
    "        q2, k2, v2 = self.quest_2(q2), self.quest_2(k2), self.quest_2(v2)\n",
    "        q2, k2, v2 = self.split(q2), self.split(k2), self.split(v2)\n",
    "        head, n_split, length, d_tensor= k1.size() \n",
    "        k1_t = k1.transpose(2,3)\n",
    "        k2_t = k2.transpose(2,3)\n",
    "        score1 = torch.matmul(q1,k1_t) / math.sqrt(d_tensor)\n",
    "        score2 = torch.matmul(q2,k2_t) / math.sqrt(d_tensor)\n",
    "        score1 = self.softmax(score1)\n",
    "        score2 = self.softmax(score2)\n",
    "        v1 = torch.matmul(score1, v2)\n",
    "        v2 = torch.matmul(score2, v1)\n",
    "        out1 = self.concat(v1)\n",
    "        out2 = self.concat(v2)\n",
    "        return out1, out2"
   ],
   "metadata": {
    "collapsed": false
   },
   "id": "aeb0c0753d348f5f",
   "execution_count": null
  },
  {
   "cell_type": "code",
   "outputs": [],
   "source": [
    "class EncoderLayer(nn.Module):\n",
    "\n",
    "    def __init__(self, d_model, ffn_hidden, n_head, drop_prob):\n",
    "        super(EncoderLayer, self).__init__()\n",
    "        self.attention = MultiHeadCoAttention(d_model=d_model, n_head=n_head)\n",
    "        self.norm1 = nn.LayerNorm(d_model)\n",
    "        self.dropout1 = nn.Dropout(p=drop_prob)\n",
    "        self.ffn = PositionwiseFeedForward(d_model=d_model, hidden=ffn_hidden, drop_prob=drop_prob)\n",
    "        self.norm2 = nn.LayerNorm(d_model)\n",
    "        self.dropout2 = nn.Dropout(p=drop_prob)\n",
    "\n",
    "    def forward(self, x1, x2):\n",
    "        _x1 = x1\n",
    "        _x2 = x2\n",
    "        x1, x2 = self.attention(q1=x1, k1=x1, v1=x1, q2=x2, k2=x2, v2=x2)\n",
    "        \n",
    "        x1 = self.dropout1(x1)\n",
    "        x2 = self.dropout1(x2)\n",
    "        x1 = self.norm1(x1 + _x1)\n",
    "        x2 = self.norm1(x2 + _x2)\n",
    "        \n",
    "        _x1 = x1\n",
    "        _x2 = x2\n",
    "        x1 = self.ffn(x1)\n",
    "        x2 = self.ffn(x2)\n",
    "      \n",
    "        x1 = self.dropout2(x1)\n",
    "        x2 = self.dropout2(x2)\n",
    "        x1 = self.norm2(x1 + _x1)\n",
    "        x2 = self.norm2(x2 + _x2)\n",
    "        return x1, x2"
   ],
   "metadata": {
    "collapsed": false
   },
   "id": "7b85df2ac4b4e458",
   "execution_count": null
  },
  {
   "cell_type": "code",
   "outputs": [],
   "source": [
    "class Encoder(nn.Module):\n",
    "\n",
    "    def __init__(self, d_model, ffn_hidden, n_head, n_layers, drop_prob, weights_matrix):\n",
    "        super().__init__()\n",
    "        \n",
    "        self.emb, num_embeddings, embedding_dim = create_emb_layer(weights_matrix)\n",
    "        self.layers = nn.ModuleList([EncoderLayer(d_model=d_model,\n",
    "                                                  ffn_hidden=ffn_hidden,\n",
    "                                                  n_head=n_head,\n",
    "                                                  drop_prob=drop_prob)\n",
    "                                     for _ in range(n_layers)])\n",
    "        self.linear2output = nn.Linear(d_model, 1)\n",
    "\n",
    "    def forward(self, x1, x2):\n",
    "        x1 = self.emb(x1.long())\n",
    "        x2 = self.emb(x2.long())\n",
    "        for layer in self.layers:\n",
    "            x1, x2 = layer(x1, x2)\n",
    "        \n",
    "        x1 = self.linear2output(x1)\n",
    "        x2 = self.linear2output(x2)\n",
    "        return x1, x2"
   ],
   "metadata": {
    "collapsed": false
   },
   "id": "ae5c9ed3cda318c8",
   "execution_count": null
  },
  {
   "cell_type": "code",
   "outputs": [],
   "source": [
    "class PositionwiseFeedForward(nn.Module):\n",
    "\n",
    "    def __init__(self, d_model, hidden, drop_prob=0.1):\n",
    "        super(PositionwiseFeedForward, self).__init__()\n",
    "        self.linear1 = nn.Linear(d_model, hidden)\n",
    "        self.linear2 = nn.Linear(hidden, d_model)\n",
    "        self.relu = nn.ReLU()\n",
    "        self.dropout = nn.Dropout(p=drop_prob)\n",
    "\n",
    "    def forward(self, x):\n",
    "        x = self.linear1(x)\n",
    "        x = self.relu(x)\n",
    "        x = self.dropout(x)\n",
    "        x = self.linear2(x)\n",
    "        return x"
   ],
   "metadata": {
    "collapsed": false
   },
   "id": "c0df8f4bc1de88d8",
   "execution_count": null
  },
  {
   "cell_type": "code",
   "outputs": [],
   "source": [
    "class ContrastiveLoss(torch.nn.Module):\n",
    "    def __init__(self, margin=2.0):\n",
    "        super(ContrastiveLoss, self).__init__()\n",
    "        self.margin = margin\n",
    "\n",
    "    def forward(self, output1, output2, label):\n",
    "        euclidean_distance = F.pairwise_distance(output1, output2, keepdim = True)\n",
    "        loss_contrastive = torch.mean((1-label) * torch.pow(euclidean_distance, 2) +\n",
    "                                      label * torch.pow(torch.clamp(self.margin - euclidean_distance, min=0.0), 2))\n",
    "        \n",
    "        return loss_contrastive"
   ],
   "metadata": {
    "collapsed": false
   },
   "id": "f29bc5aa0408c227",
   "execution_count": null
  },
  {
   "cell_type": "code",
   "outputs": [],
   "source": [
    "dim_model = 300\n",
    "d_hid = 300 \n",
    "nlayers = 2 \n",
    "nhead = 3 \n",
    "dropout = 0.2 \n",
    "weights = get_embedding(train_DataSet.token_dict)\n",
    "model = Encoder(d_model=dim_model, n_head=nhead, ffn_hidden=d_hid, n_layers=nlayers, drop_prob=dropout, weights_matrix=weights).to(device)"
   ],
   "metadata": {
    "collapsed": false
   },
   "id": "2361a4f84f4e527",
   "execution_count": null
  },
  {
   "cell_type": "code",
   "outputs": [],
   "source": [
    "train_loss = tf.keras.metrics.Mean('train_loss', dtype=tf.float32)\n",
    "train_CosineSimilarity = tf.keras.metrics.CosineSimilarity('train_CosineSimilarity')\n",
    "valid_loss = tf.keras.metrics.Mean('valid_loss', dtype=tf.float32)\n",
    "valid_CosineSimilarity = tf.keras.metrics.CosineSimilarity('valid_CosineSimilarity')"
   ],
   "metadata": {
    "collapsed": false
   },
   "id": "ed4cf84b0e9bb5d6",
   "execution_count": null
  },
  {
   "cell_type": "code",
   "outputs": [],
   "source": [
    "criterion = ContrastiveLoss()\n",
    "lr = 0.5 \n",
    "optimizer = torch.optim.Adam(model.parameters(), lr=lr)\n",
    "scheduler = torch.optim.lr_scheduler.StepLR(optimizer, 1, gamma=0.95)\n",
    "\n",
    "def train(model: nn.Module, training_data):\n",
    "    epoch_loss = 0\n",
    "    model.train()\n",
    "    total_loss = 0\n",
    "\n",
    "    for i, (input1, input2, label) in enumerate(training_data):\n",
    "        optimizer.zero_grad()\n",
    "        output1, output2 = model(pad_to_300x300(input1),pad_to_300x300(input2))\n",
    "        loss = criterion(output1,output2,label)\n",
    "        total_loss += loss.item()\n",
    "        loss.backward()\n",
    "        optimizer.step()\n",
    "        train_loss(loss.item())\n",
    "        train_CosineSimilarity(output1.detach().numpy(),output2.detach().numpy())\n",
    "    return epoch_loss\n",
    "\n",
    "\n",
    "def evaluate(model: nn.Module, eval_data: Tensor):\n",
    "    model.eval()\n",
    "    total_loss = 0\n",
    "    with torch.no_grad():\n",
    "        for i, (input1, input2, label) in enumerate(eval_data):\n",
    "            output1, output2 = model(pad_to_300x300(input1),pad_to_300x300(input2))\n",
    "            loss = criterion(output1,output2,label)    \n",
    "            total_loss += loss.item()\n",
    "            valid_loss(loss.item())\n",
    "            valid_CosineSimilarity(output1,output2)\n",
    "    return total_loss/(len(eval_data)-1), cosine_similarity(output1.detach().numpy(),output2.detach().numpy())"
   ],
   "metadata": {
    "collapsed": false
   },
   "id": "f6b373b2c5ed21b0",
   "execution_count": null
  },
  {
   "cell_type": "code",
   "outputs": [],
   "source": [
    "current_time = datetime.datetime.now().strftime(\"%Y%m%d-%H%M%S\")\n",
    "train_log_dir = 'logs/gradient_tape/' + current_time + '/train'\n",
    "valid_log_dir = 'logs/gradient_tape/' + current_time + '/valid'\n",
    "train_summary_writer = tf.summary.create_file_writer(train_log_dir)\n",
    "valid_summary_writer = tf.summary.create_file_writer(valid_log_dir)"
   ],
   "metadata": {
    "collapsed": false
   },
   "id": "469966fa3cc14e74",
   "execution_count": null
  },
  {
   "cell_type": "code",
   "outputs": [],
   "source": [
    "batch_size = 30\n",
    "eval_batch_size = 15\n",
    "best_val_loss = float('inf')\n",
    "epochs = 7\n",
    "best_model = None\n",
    "train_epoch_loss = []\n",
    "val_epoch_loss = []\n",
    "\n",
    "for epoch in range(1, epochs + 1):\n",
    "    train_data = DataLoader(train_DataSet, batch_size = batch_size)\n",
    "    valid_data = DataLoader(valid_DataSet, batch_size = eval_batch_size)\n",
    "    epoch_start_time = time.time()\n",
    "    train_epoch_loss.append(train(model, train_data))\n",
    "    with train_summary_writer.as_default():\n",
    "        tf.summary.scalar('loss', train_loss.result(), step=epoch)\n",
    "        tf.summary.scalar('CosineSimilarity', train_CosineSimilarity().result(), step=epoch)\n",
    "    tmp_loss, valid_CosineSimilarity = (evaluate(model, valid_data))\n",
    "    val_epoch_loss.append(tmp_loss)\n",
    "    with valid_summary_writer.as_default():\n",
    "        tf.summary.scalar('loss', valid_loss.result(), step=epoch)\n",
    "        tf.summary.scalar('CosineSimilarity', valid_CosineSimilarity().result(), step=epoch)\n",
    "    elapsed = time.time() - epoch_start_time\n",
    "    print('-' * 89)\n",
    "    print(f'| end of epoch {epoch:3d} | time: {elapsed:5.2f}s | '\n",
    "          f'valid loss {val_epoch_loss[-1]:5.2f} | valid CosineSimilarity {valid_CosineSimilarity:8.2f}')\n",
    "    print('-' * 89)\n",
    "\n",
    "    if val_epoch_loss[-1] < best_val_loss:\n",
    "        best_val_loss = val_epoch_loss[-1]\n",
    "        best_model = copy.deepcopy(model)\n",
    "        \n",
    "    train_loss.reset_states()\n",
    "    valid_loss.reset_states()\n",
    "    train_CosineSimilarity.reset_states()\n",
    "    valid_CosineSimilarity.reset_states()\n",
    "\n",
    "save_path = 'trained_NLP_model.pt'\n",
    "torch.save(model.state_dict(), save_path)"
   ],
   "metadata": {
    "collapsed": false
   },
   "id": "c770abbb1097b3a5",
   "execution_count": null
  },
  {
   "cell_type": "code",
   "outputs": [],
   "source": [
    "def test(model: nn.Module, testing_data: Tensor):\n",
    "    model.eval()\n",
    "    test_scores = []\n",
    "    with torch.no_grad():\n",
    "        for i, (input1, input2, label) in enumerate(testing_data):\n",
    "            output1, output2 = model(pad_to_300x300(input1),pad_to_300x300(input2))\n",
    "            test_scores.append(cosine_similarity(output1.detach().numpy(),output2.detach().numpy()))\n",
    "    test_total_cosinesimilarity = sum(test_scores) / len(test_scores)\n",
    "    print('-' * 89)\n",
    "    print(f'test CosineSimilarity {test_total_cosinesimilarity:8.2f}')\n",
    "    print('-' * 89)"
   ],
   "metadata": {
    "collapsed": false
   },
   "id": "172302e3139252f"
  },
  {
   "cell_type": "code",
   "outputs": [],
   "source": [
    "test_data = DataLoader(test_DataSet.tokenized_words, batch_size = batch_size)\n",
    "test(model,test_data)"
   ],
   "metadata": {
    "collapsed": false
   },
   "id": "9699cc5667eefe4f"
  }
 ],
 "metadata": {
  "kernelspec": {
   "display_name": "Python 3 (ipykernel)",
   "language": "python",
   "name": "python3"
  },
  "language_info": {
   "codemirror_mode": {
    "name": "ipython",
    "version": 3
   },
   "file_extension": ".py",
   "mimetype": "text/x-python",
   "name": "python",
   "nbconvert_exporter": "python",
   "pygments_lexer": "ipython3",
   "version": "3.11.5"
  }
 },
 "nbformat": 4,
 "nbformat_minor": 5
}
